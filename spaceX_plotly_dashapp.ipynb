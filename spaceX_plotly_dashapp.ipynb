{
    "cells": [
        {
            "cell_type": "code",
            "execution_count": null,
            "metadata": {
                "collapsed": true
            },
            "outputs": [],
            "source": "# Import required libraries\nimport pandas as pd\nimport dash\nimport dash_html_components as html\nimport dash_core_components as dcc\nfrom dash.dependencies import Input, Output\nimport plotly.express as px"
        },
        {
            "cell_type": "code",
            "execution_count": null,
            "metadata": {},
            "outputs": [],
            "source": "# Read the airline data into pandas dataframe\nspacex_df = pd.read_csv(\"spacex_launch_dash.csv\")\nmax_payload = spacex_df['Payload Mass (kg)'].max()\nmin_payload = spacex_df['Payload Mass (kg)'].min()\nprint(min_payload)\nprint(max_payload)"
        },
        {
            "cell_type": "code",
            "execution_count": null,
            "metadata": {},
            "outputs": [],
            "source": "# Create a dash application\napp = dash.Dash(__name__)"
        },
        {
            "cell_type": "code",
            "execution_count": null,
            "metadata": {},
            "outputs": [],
            "source": "# Create an app layout\napp.layout = html.Div(children=[html.H1('SpaceX Launch Records Dashboard',\n                                        style={'textAlign': 'center', 'color': '#503D36',\n                                               'font-size': 40}),\n                                # TASK 1: Add a dropdown list to enable Launch Site selection\n                                # The default select value is for ALL sites\n                                # dcc.Dropdown(id='site-dropdown',...)\n                               dcc.Dropdown(id='site-dropdown',\n                                options=[\n                                    {'label': 'All Sites', 'value': 'ALL'},\n                                    {'label': 'CCAFS LC-40', 'value': 'CCAFS LC-40'},\n                                    {'label': 'VAFB SLC-4E', 'value': 'VAFB SLC-4E'},\n                                    {'label': 'KSC LC-39A', 'value': 'KSC LC-39A'},\n                                    {'label': 'CCAFS SLC-40', 'value': 'CCAFS SLC-40'}\n                                ],\n                                value='ALL',\n                                placeholder=\"Select a Launch Site here\",\n                                searchable=True\n                                ),                                \n                                html.Br(),\n                                # TASK 2: Add a pie chart to show the total successful launches count for all sites\n                                # If a specific launch site was selected, show the Success vs. Failed counts for the site\n                                html.Div(dcc.Graph(id='success-pie-chart')),\n                                html.Br(),\n                                html.P(\"Payload range (Kg):\"),\n                                # TASK 3: Add a slider to select payload range\n                                #dcc.RangeSlider(id='payload-slider',...)\n                                dcc.RangeSlider(id='payload-slider',\n                                                min=0, max=10000, step=1000,\n                                                marks={0: '0', 100: '100'},\n                                                value=[min_payload, max_payload]),\n                                # TASK 4: Add a scatter chart to show the correlation between payload and launch success\n                                html.Div(dcc.Graph(id='success-payload-scatter-chart')),\n                                ])"
        },
        {
            "cell_type": "code",
            "execution_count": null,
            "metadata": {},
            "outputs": [],
            "source": "# TASK 2:\n# Add a callback function for `site-dropdown` as input, `success-pie-chart` as output\n@app.callback(Output(component_id='success-pie-chart', component_property='figure'),\n              Input(component_id='site-dropdown', component_property='value'))\ndef get_pie_chart(entered_site):\n    #filtered_df = spacex_df\n    if entered_site == 'ALL':\n        pie_data = spacex_df.groupby(['Launch Site'])['class'].sum().reset_index()\n        fig = px.pie(pie_data, values='class', \n        names='Launch Site', \n        title='Total Success Launches by Site')\n        return fig\n    else:\n        # return the outcomes piechart for a selected site\n        filtered_df = spacex_df[spacex_df['Launch Site'] == entered_site]\n        print(entered_site)\n        print(filtered_df)\n        pie_data = filtered_df.groupby(['class'])['Flight Number'].count().reset_index()\n        fig = px.pie(pie_data, values='Flight Number', \n        names='class', \n        title='Total Success Launches by Site')\n        return fig   "
        },
        {
            "cell_type": "code",
            "execution_count": null,
            "metadata": {},
            "outputs": [],
            "source": "# TASK 4:\n# Add a callback function for `site-dropdown` and `payload-slider` as inputs, `success-payload-scatter-chart` as output\n@app.callback(Output(component_id='success-payload-scatter-chart', component_property='figure'),\n              [Input(component_id='site-dropdown', component_property='value'),\n               Input(component_id=\"payload-slider\", component_property=\"value\")] )\ndef get_scatter_chart(entered_site, payload_mass):\n    #filtered_df = spacex_df\n    if entered_site == 'ALL':\n        #scatter_data = spacex_df.groupby(['Launch Site'])['class'].sum().reset_index()\n        scatter_data = spacex_df\n        fig = px.scatter(scatter_data,\n                        x='Payload Mass (kg)', \n                        y='class', \n                        color=\"Booster Version Category\")\n        return fig\n    else:\n        # return the outcomes piechart for a selected site\n        filtered_df = spacex_df[spacex_df['Launch Site'] == entered_site]\n        print(entered_site)\n        print(filtered_df)\n        scatter_data = filtered_df\n        fig = px.scatter(scatter_data,\n                        x='Payload Mass (kg)', \n                        y='class', \n                        color=\"Booster Version Category\")\n        return fig       \n\n"
        },
        {
            "cell_type": "code",
            "execution_count": null,
            "metadata": {},
            "outputs": [],
            "source": "# Run the app\nif __name__ == '__main__':\n    app.run_server()\n"
        }
    ],
    "metadata": {
        "kernelspec": {
            "display_name": "Python 3.8",
            "language": "python",
            "name": "python3"
        },
        "language_info": {
            "codemirror_mode": {
                "name": "ipython",
                "version": 3
            },
            "file_extension": ".py",
            "mimetype": "text/x-python",
            "name": "python",
            "nbconvert_exporter": "python",
            "pygments_lexer": "ipython3",
            "version": "3.8.12"
        }
    },
    "nbformat": 4,
    "nbformat_minor": 1
}